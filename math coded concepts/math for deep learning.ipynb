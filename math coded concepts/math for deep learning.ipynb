{
 "cells": [
  {
   "cell_type": "markdown",
   "id": "5148c65a",
   "metadata": {},
   "source": [
    "Eigenvectors and Eigenvalues"
   ]
  },
  {
   "cell_type": "code",
   "execution_count": 1,
   "id": "dfee654a",
   "metadata": {},
   "outputs": [
    {
     "name": "stdout",
     "output_type": "stream",
     "text": [
      "test failed\n"
     ]
    }
   ],
   "source": [
    "import numpy as np\n",
    "\n",
    "A = np.array([[-0.7071+0.j, -0.4472+0.j],\n",
    "        [ 0.7071+0.j, -0.8944+0.j]])\n",
    "v = np.array([[2, 1], [2, 3]])\n",
    "\n",
    "if np.array_equal(A @ v, 4 * v):\n",
    "    print(\"Test passed\")\n",
    "else:\n",
    "    print('test failed')"
   ]
  },
  {
   "cell_type": "markdown",
   "id": "782ea0d8",
   "metadata": {},
   "source": [
    "**ooops it looks loke my test is not working well may be next time**"
   ]
  },
  {
   "cell_type": "code",
   "execution_count": 3,
   "id": "bb66a631",
   "metadata": {},
   "outputs": [
    {
     "name": "stdout",
     "output_type": "stream",
     "text": [
      "[1 2]\n",
      "[3 4]\n"
     ]
    }
   ],
   "source": [
    "arr = np.array([[1, 2], [3, 4]])\n",
    "\n",
    "for i in arr:\n",
    "    print(i)"
   ]
  },
  {
   "cell_type": "code",
   "execution_count": null,
   "id": "fa83ef97",
   "metadata": {},
   "outputs": [],
   "source": []
  }
 ],
 "metadata": {
  "kernelspec": {
   "display_name": ".venv",
   "language": "python",
   "name": "python3"
  },
  "language_info": {
   "codemirror_mode": {
    "name": "ipython",
    "version": 3
   },
   "file_extension": ".py",
   "mimetype": "text/x-python",
   "name": "python",
   "nbconvert_exporter": "python",
   "pygments_lexer": "ipython3",
   "version": "3.13.5"
  }
 },
 "nbformat": 4,
 "nbformat_minor": 5
}
